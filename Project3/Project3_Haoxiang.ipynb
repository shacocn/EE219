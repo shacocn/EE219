{
 "cells": [
  {
   "cell_type": "markdown",
   "metadata": {},
   "source": [
    "## Jupyter Notebook for a better view only, you can edit/run code on your local Jupyter Notebook, but please push/sync code through Project3.py only!!! "
   ]
  },
  {
   "cell_type": "markdown",
   "metadata": {},
   "source": [
    "## (You can upload your own Jupyter Notebook if you want, just name as Project3_yourname.ipynb)"
   ]
  },
  {
   "cell_type": "markdown",
   "metadata": {},
   "source": [
    "## This is because we have not found a tool (like ShareLatex) to share/edit/run upyter Notebook simultaneously. Although Jupyter Notebook is really intuitive and convenient to use"
   ]
  },
  {
   "cell_type": "markdown",
   "metadata": {},
   "source": [
    "# Project 3 Collaborative Filtering"
   ]
  },
  {
   "cell_type": "code",
   "execution_count": 16,
   "metadata": {},
   "outputs": [],
   "source": [
    "import numpy as np\n",
    "import csv"
   ]
  },
  {
   "cell_type": "markdown",
   "metadata": {},
   "source": [
    "## Create R Matrix"
   ]
  },
  {
   "cell_type": "code",
   "execution_count": null,
   "metadata": {},
   "outputs": [
    {
     "name": "stdout",
     "output_type": "stream",
     "text": [
      "Matrix has row size (users) 671, and col size (movies) 163949\n",
      "4.0\n"
     ]
    }
   ],
   "source": [
    "data = np.loadtxt('ml-latest-small/ratings.csv',\n",
    "           delimiter=',', skiprows=1, usecols=(0,1,2))\n",
    "\n",
    "# tranform data type (from float to int for first 2 rows)\n",
    "# 'userId', 'movieId', 'rating'\n",
    "row_userId = data[:,:1].astype(int)\n",
    "row_movieId = data[:,1:2].astype(int)\n",
    "row_rating = data[:,2:3]\n",
    "R_row = np.amax(row_userId)\n",
    "R_col = np.amax(row_movieId)\n",
    "print('Matrix has row size (users) %s, and col size (movies) %s' \n",
    "          % (R_row, R_col))\n",
    "R = np.zeros([R_row, R_col])\n",
    "for i in range(row_userId.size):\n",
    "    r = row_userId[i] - 1\n",
    "    c = row_movieId[i] - 1\n",
    "    rating = row_rating[i]\n",
    "    R[r, c] = rating\n",
    "print(R[1,109])"
   ]
  },
  {
   "cell_type": "markdown",
   "metadata": {},
   "source": [
    "## Q1. Compute the sparsity of the movie rating dataset"
   ]
  },
  {
   "cell_type": "code",
   "execution_count": 1,
   "metadata": {},
   "outputs": [
    {
     "ename": "NameError",
     "evalue": "name 'np' is not defined",
     "output_type": "error",
     "traceback": [
      "\u001b[0;31m---------------------------------------------------------------------------\u001b[0m",
      "\u001b[0;31mNameError\u001b[0m                                 Traceback (most recent call last)",
      "\u001b[0;32m<ipython-input-1-78a85cd18977>\u001b[0m in \u001b[0;36m<module>\u001b[0;34m()\u001b[0m\n\u001b[1;32m     12\u001b[0m \u001b[0;31m# columns to 9000+ columns.\u001b[0m\u001b[0;34m\u001b[0m\u001b[0;34m\u001b[0m\u001b[0m\n\u001b[1;32m     13\u001b[0m \u001b[0;34m\u001b[0m\u001b[0m\n\u001b[0;32m---> 14\u001b[0;31m \u001b[0mrating_avl\u001b[0m \u001b[0;34m=\u001b[0m \u001b[0mnp\u001b[0m\u001b[0;34m.\u001b[0m\u001b[0mcount_nonzero\u001b[0m\u001b[0;34m(\u001b[0m\u001b[0mR\u001b[0m\u001b[0;34m)\u001b[0m\u001b[0;34m\u001b[0m\u001b[0m\n\u001b[0m\u001b[1;32m     15\u001b[0m \u001b[0mrating_psb\u001b[0m \u001b[0;34m=\u001b[0m \u001b[0mnp\u001b[0m\u001b[0;34m.\u001b[0m\u001b[0mprod\u001b[0m\u001b[0;34m(\u001b[0m\u001b[0mR\u001b[0m\u001b[0;34m.\u001b[0m\u001b[0mshape\u001b[0m\u001b[0;34m)\u001b[0m\u001b[0;34m\u001b[0m\u001b[0m\n\u001b[1;32m     16\u001b[0m \u001b[0msparsity\u001b[0m \u001b[0;34m=\u001b[0m \u001b[0mrating_avl\u001b[0m\u001b[0;34m/\u001b[0m\u001b[0mrating_psb\u001b[0m\u001b[0;34m\u001b[0m\u001b[0m\n",
      "\u001b[0;31mNameError\u001b[0m: name 'np' is not defined"
     ]
    }
   ],
   "source": [
    "# Sparsity = Total number of available ratings\n",
    "#           / Total number of possible ratings\n",
    "\n",
    "# Currentyly, row of R is 671 which corresponds to the 671 users listed\n",
    "# in the dataset README file.\n",
    "# However, column of R is 163949 which does not correspond to the 9125\n",
    "# movies listed in dataset README file. As a result, the sparsity if very\n",
    "# low.\n",
    "# This is because the max movieId is 163949 from the rating.csv file. We\n",
    "# will see if this is the correct choice later. If not, we need to find\n",
    "# a way to map 9000+ movies (with movieIDs max to 163949) from 163949\n",
    "# columns to 9000+ columns.\n",
    "\n",
    "rating_avl = np.count_nonzero(R)\n",
    "rating_psb = np.prod(R.shape)\n",
    "sparsity = rating_avl/rating_psb\n",
    "print(sparsity)"
   ]
  },
  {
   "cell_type": "code",
   "execution_count": null,
   "metadata": {},
   "outputs": [],
   "source": []
  }
 ],
 "metadata": {
  "kernelspec": {
   "display_name": "Python 3",
   "language": "python",
   "name": "python3"
  },
  "language_info": {
   "codemirror_mode": {
    "name": "ipython",
    "version": 3
   },
   "file_extension": ".py",
   "mimetype": "text/x-python",
   "name": "python",
   "nbconvert_exporter": "python",
   "pygments_lexer": "ipython3",
   "version": "3.6.4"
  }
 },
 "nbformat": 4,
 "nbformat_minor": 2
}
